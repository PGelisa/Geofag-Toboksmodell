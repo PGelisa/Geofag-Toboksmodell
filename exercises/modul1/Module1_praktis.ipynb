{
 "cells": [
  {
   "cell_type": "markdown",
   "id": "404fe42a",
   "metadata": {
    "tags": []
   },
   "source": [
    "\n",
    "# Module 1 : Drivhus effekt og jordtemperaturen\n",
    "\n",
    "Energy balance: the energy coming in a systen must equal the energy coming out such that:\n",
    "\n",
    "\\begin{equation} P_{in}=P_{out} \\tag{1} \\end{equation}\n"
   ]
  },
  {
   "cell_type": "markdown",
   "id": "962b15fd",
   "metadata": {},
   "source": [
    "<img src=\"figurer_til_module1_a.png\">"
   ]
  },
  {
   "cell_type": "markdown",
   "id": "fd4c79b1",
   "metadata": {
    "tags": []
   },
   "source": [
    "## Jordtemperaturen uten atmosfære\n",
    "\n",
    "The sun is radiating 1361 W.m$^{-2}$ ($\\Omega$) at one astronomical unit (distance sun-Earth). A disk of these radiations intercept the Earth, such that the Earth receive a total energy of $\\Omega\\times\\pi~R^{2}$ per unity of surface and time. In this equation, R corresponds to the radius of the Earth. However, part of this energy is directly re-emitted through reflexion. The reflexion of radiations by a surface is called albedo ($\\alpha$). Ranging from 0 to 1, the albedo indicates a reemission of 0$\\%$ to 100$\\%$ of the radiations, while $(1-\\alpha)$ of the radiations are absorbed. \n",
    "In particular, fresh snow has an albedo of 0.9 (10$\\%$ of absorption) while the open ocean has an albedo of 0.06 (94$\\%$ of absorption). Overall, the Earth has a mean albedo $\\alpha=0.306$"
   ]
  },
  {
   "cell_type": "markdown",
   "id": "e3a1d942",
   "metadata": {},
   "source": [
    "<img src=\"figurer_til_module1_b.png\">"
   ]
  },
  {
   "cell_type": "markdown",
   "id": "f3fa33fe",
   "metadata": {},
   "source": [
    "To summarize, the Earth is absorbing the following energy per unit of time:\n",
    "\n",
    "\\begin{equation} P_{in} = (1-\\alpha)~\\Omega \\times \\pi ~R^{2} \\tag{2} \\end{equation}\n",
    "\n",
    "By receiving radiations, the Earth heats up and emits thermal radiations. Assuming an equilibrium temperature of the Earth $T_{E}$ and that it behaves like a black body, the energy emitted by the Earth by unit of time $P_{out}$ is given by the Stefan Boltzmann law:\n",
    "\n",
    "\\begin{equation} P_{out} = 4\\pi ~R^{2} \\times \\sigma ~T_{e}^{4} \\tag{3}\\end{equation}\n",
    "\n",
    "with $\\sigma=5.67\\times 10^{-8}$W.m$^{-2}$.K$^{-4}$ the Boltzmann constant, and $4\\pi R^{2}$ the surface of the Earth. \n",
    "By combining equation (1), (2) and (3), we find that the temperature of the Earth without an atmosphere is:\n",
    "\n",
    "\\begin{equation} T_{e} = \\left( \\frac{ \\Omega\\times(1-\\alpha)}{4~\\sigma} \\right)^{\\frac{1}{4}} \\tag{4}\\end{equation}\n"
   ]
  },
  {
   "cell_type": "markdown",
   "id": "e464ae7a",
   "metadata": {},
   "source": [
    "<img src=\"figurer_til_module1_c.png\">"
   ]
  },
  {
   "cell_type": "markdown",
   "id": "563bfdc7",
   "metadata": {},
   "source": [
    "### Exercice 1:\n",
    "* 1- fill in the values of $\\Omega$, $\\sigma$ and $\\alpha$ and compile\n",
    "* 2- compile and print below the temperature of the Earth without an atmosphere\n",
    "* 3- what would be the temperature of the Earth if it was covered with grass, ocean or solar pannels? alphaS below is a panda serie containing multiple albedo values. By replacing \"alpha\" by \"alphaS\" in equation (4), one get a panda serie of temperature. Add other albedo values, as for example the albedo of solar pannels, and compile the cell below\n",
    "* 4- One can use the same formula to compute the temperature of Venus and Mars, by changing the albedo and the solar irradiance (which is based on the distance to the sun). Compute the temperature using $\\alpha=0.250$ and $\\Omega=586.2$ for Mars, $\\alpha=0.77$ and $\\Omega=2601$ for Venus. (It is recommended to create a function)\n"
   ]
  },
  {
   "cell_type": "code",
   "execution_count": 1,
   "id": "b79a8ba4",
   "metadata": {
    "tags": []
   },
   "outputs": [],
   "source": [
    "### (1)\n",
    "omega = 1361                 # solar constant (W.m-2)\n",
    "sigma = 5.67e-8            # Stefan Boltzman constant (W.m-2.K-4)\n",
    "alpha = 0.3                  # albedo: fraction of solar radiations reflected by the Earth"
   ]
  },
  {
   "cell_type": "code",
   "execution_count": 2,
   "id": "e1470fe4",
   "metadata": {
    "tags": []
   },
   "outputs": [
    {
     "name": "stdout",
     "output_type": "stream",
     "text": [
      "-18.42 °C\n"
     ]
    }
   ],
   "source": [
    "### (2)\n",
    "Te_uten_atmosfær = (omega*(1-alpha)/(4*sigma)) **(1/4)\n",
    "\n",
    "print(\"%.2f\" %(Te_uten_atmosfær -273),'°C')"
   ]
  },
  {
   "cell_type": "code",
   "execution_count": 3,
   "id": "4ebe9d68",
   "metadata": {},
   "outputs": [
    {
     "name": "stdout",
     "output_type": "stream",
     "text": [
      "Hypothetical temperature of the Earth with a different surface: \n",
      " \n",
      " black body    5.325994\n",
      "dtype: float64\n"
     ]
    }
   ],
   "source": [
    "### (3)\n",
    "\n",
    "import pandas as pd\n",
    "alphaS = pd.Series([0],index=['black body'])\n",
    "\n",
    "Te_uten_atmosfær = ( omega*(1-alphaS)/(4*sigma) )**(1/4)\n",
    "\n",
    "print('Hypothetical temperature of the Earth with a different surface: \\n \\n',Te_uten_atmosfær-273)"
   ]
  },
  {
   "cell_type": "code",
   "execution_count": 4,
   "id": "911620be",
   "metadata": {},
   "outputs": [],
   "source": [
    "### (4) E\n",
    "def T_uten_atm(alpha,omega):\n",
    "    \n",
    "    # Here you can define your own function, that is used for caluclating the temperature of the Earth without an atm. \n",
    "    \n",
    "    # \"T_uten_atm\" is the name of function\n",
    "    # alpha and omega are input values\n",
    "    T = 0\n",
    "    return T"
   ]
  },
  {
   "cell_type": "code",
   "execution_count": null,
   "id": "666b5ab9",
   "metadata": {},
   "outputs": [],
   "source": [
    "# Defining your own function - HELP\n",
    "\n",
    "def my_function(input1,input2):\n",
    "        \n",
    "    # \"my_function\" is the name of function. \n",
    "    # alpha and omega are input values\n",
    "    output = 0\n",
    "    return output"
   ]
  },
  {
   "cell_type": "markdown",
   "id": "c3c000ac",
   "metadata": {
    "tags": []
   },
   "source": [
    "## Jordtemperaturen med enkel atmosfære\n",
    "\n",
    "We now add a simple homogenous layer of gas acting as a grey body. This layer absorbs $\\epsilon_{a}$ of the thermal radiations emitted by the Earth and emits thermal radiations in all directions (upward and downward). The amount of emission per unit area is defined by the folowing expression: $\\epsilon \\times \\sigma~T_{a}^{4}$ where $\\epsilon$ is the emissivity and $T_{a}$ is the equilibrium temperature of the atmosphere. In fact, a grey body emits the same amount of energy than a black body at the same temperature mutliplied by the emissivity.\n",
    "\n",
    "In addition, the  absorptivity equals the emissivity if the grey body is in thermal equilibrium ($\\epsilon_{a}=\\epsilon$) \n",
    "\n",
    "Finally, we consider that the surface of the bottom and top of the atmosphere is the same as the Earth surface ($S_{ba}=S_{ta}=4\\pi~R^{2}$) for simplifications, so that the atmosphere absorbs $\\epsilon \\times 4\\pi~R^{2}\\sigma~T_{e}^{4}$ and emits in total $2\\times 4\\pi~R^{2}\\times \\epsilon \\times\\sigma~T_{a}^{4}$. The different energy fluxes are represented on the sketch below. Note that all the fluxes (and following equations) were divided by $4\\pi~R^{2}$ to improve the readability."
   ]
  },
  {
   "cell_type": "markdown",
   "id": "1af66dec",
   "metadata": {},
   "source": [
    "<img src=\"figurer_til_module1_d.png\">"
   ]
  },
  {
   "cell_type": "markdown",
   "id": "1d2f3f81",
   "metadata": {
    "tags": []
   },
   "source": [
    "### Energy budget:\n",
    "\n",
    "\\begin{equation} \\textrm{Jord:}~~ (1-\\alpha)\\frac{\\Omega}{4} + \\epsilon~\\sigma~ T_{a}^{4} = \\sigma~ T_{e}^{4} \\tag{5} \\end{equation}\n",
    "\\begin{equation} \\textrm{Atmosfær:} ~~ \\epsilon~\\sigma~ T_{e}^{4} = 2\\times \\epsilon~\\sigma~ T_{a}^{4} \\tag{6}\\end{equation}\n",
    "\\begin{equation} \\textrm{Topen av atmosfæren:} ~~ \\frac{\\Omega}{4} = \\alpha \\frac{\\Omega}{4}+(1-\\epsilon)~\\sigma~ T_{e}^{4} +  \\epsilon~\\sigma~ T_{a}^{4} \\tag{7}\\end{equation}\n",
    "\n",
    "### Exercise 2:\n",
    "\n",
    "* 1- Find the relation between the temperature of the atmosphere and the temperature of the Earth.  \n",
    "* 2 - By replacing $T_{a}$ in equation (5) you can now find the tempertaure of the Earth:\n",
    "\\begin{equation} T_{e} =  \\left( \\frac{(1-\\alpha)}{4\\sigma(1-\\frac{\\epsilon}{2})} \\right) ^{\\frac{1}{4}}  \\end{equation}\n",
    "Create the variable $\\epsilon=0.77$ and compute the temperature using the variables already defined in Exercise 1 ($\\omega$,  $\\sigma$ and $\\alpha$). Print your result.\n",
    "* 3 - idea: tried different $\\epsilon$ accounting for more or less greenhouse gases.."
   ]
  },
  {
   "cell_type": "code",
   "execution_count": 6,
   "id": "f8353d12",
   "metadata": {},
   "outputs": [
    {
     "ename": "TypeError",
     "evalue": "must be real number, not ellipsis",
     "output_type": "error",
     "traceback": [
      "\u001b[0;31m-------------------------------------------------------------------------\u001b[0m",
      "\u001b[0;31mTypeError\u001b[0m                               Traceback (most recent call last)",
      "\u001b[0;32m<ipython-input-6-ab031020b9c0>\u001b[0m in \u001b[0;36m<module>\u001b[0;34m\u001b[0m\n\u001b[1;32m      2\u001b[0m \u001b[0mepsilon\u001b[0m \u001b[0;34m=\u001b[0m \u001b[0;36m0.77\u001b[0m          \u001b[0;31m# emissivity / fraction of longwaves radiations absorbed by the atmosphere\u001b[0m\u001b[0;34m\u001b[0m\u001b[0;34m\u001b[0m\u001b[0m\n\u001b[1;32m      3\u001b[0m \u001b[0mTe_med_atmosfær\u001b[0m \u001b[0;34m=\u001b[0m \u001b[0;34m...\u001b[0m\u001b[0;34m\u001b[0m\u001b[0;34m\u001b[0m\u001b[0m\n\u001b[0;32m----> 4\u001b[0;31m \u001b[0mprint\u001b[0m\u001b[0;34m(\u001b[0m\u001b[0;34m\"%.2f\"\u001b[0m \u001b[0;34m%\u001b[0m\u001b[0;34m(\u001b[0m\u001b[0mTe_med_atmosfær\u001b[0m\u001b[0;34m)\u001b[0m\u001b[0;34m,\u001b[0m\u001b[0;34m'°C'\u001b[0m\u001b[0;34m)\u001b[0m\u001b[0;34m\u001b[0m\u001b[0;34m\u001b[0m\u001b[0m\n\u001b[0m",
      "\u001b[0;31mTypeError\u001b[0m: must be real number, not ellipsis"
     ]
    }
   ],
   "source": [
    "### 2\n",
    "epsilon = 0.77          # emissivity / fraction of longwaves radiations absorbed by the atmosphere\n",
    "Te_med_atmosfær = ...\n",
    "print(\"%.2f\" %(Te_med_atmosfær),'°C')"
   ]
  },
  {
   "cell_type": "code",
   "execution_count": 7,
   "id": "c9632f03",
   "metadata": {},
   "outputs": [
    {
     "ename": "NameError",
     "evalue": "name 'T' is not defined",
     "output_type": "error",
     "traceback": [
      "\u001b[0;31m-------------------------------------------------------------------------\u001b[0m",
      "\u001b[0;31mNameError\u001b[0m                               Traceback (most recent call last)",
      "\u001b[0;32m<ipython-input-7-cf804a2c79c0>\u001b[0m in \u001b[0;36m<module>\u001b[0;34m\u001b[0m\n\u001b[1;32m      4\u001b[0m     \u001b[0;32mreturn\u001b[0m \u001b[0mT\u001b[0m\u001b[0;34m\u001b[0m\u001b[0;34m\u001b[0m\u001b[0m\n\u001b[1;32m      5\u001b[0m \u001b[0;34m\u001b[0m\u001b[0m\n\u001b[0;32m----> 6\u001b[0;31m \u001b[0mprint\u001b[0m\u001b[0;34m(\u001b[0m\u001b[0mT_med_atm\u001b[0m\u001b[0;34m(\u001b[0m\u001b[0;36m0.77\u001b[0m\u001b[0;34m,\u001b[0m\u001b[0;36m2601\u001b[0m\u001b[0;34m,\u001b[0m\u001b[0;36m1\u001b[0m\u001b[0;34m)\u001b[0m\u001b[0;34m)\u001b[0m\u001b[0;34m\u001b[0m\u001b[0;34m\u001b[0m\u001b[0m\n\u001b[0m\u001b[1;32m      7\u001b[0m \u001b[0;34m\u001b[0m\u001b[0m\n\u001b[1;32m      8\u001b[0m \u001b[0mprint\u001b[0m\u001b[0;34m(\u001b[0m \u001b[0;36m2\u001b[0m\u001b[0;34m*\u001b[0m\u001b[0;34m(\u001b[0m\u001b[0;36m1\u001b[0m\u001b[0;34m-\u001b[0m\u001b[0;34m(\u001b[0m\u001b[0;36m1\u001b[0m\u001b[0;34m-\u001b[0m\u001b[0malpha\u001b[0m\u001b[0;34m)\u001b[0m\u001b[0;34m*\u001b[0m\u001b[0momega\u001b[0m\u001b[0;34m/\u001b[0m\u001b[0;34m(\u001b[0m\u001b[0;34m(\u001b[0m\u001b[0;36m737\u001b[0m\u001b[0;34m**\u001b[0m\u001b[0;36m4\u001b[0m\u001b[0;34m)\u001b[0m\u001b[0;34m*\u001b[0m\u001b[0;36m4\u001b[0m\u001b[0;34m*\u001b[0m\u001b[0msigma\u001b[0m\u001b[0;34m)\u001b[0m\u001b[0;34m)\u001b[0m \u001b[0;34m)\u001b[0m\u001b[0;34m\u001b[0m\u001b[0;34m\u001b[0m\u001b[0m\n",
      "\u001b[0;32m<ipython-input-7-cf804a2c79c0>\u001b[0m in \u001b[0;36mT_med_atm\u001b[0;34m(alpha, omega, epsilon)\u001b[0m\n\u001b[1;32m      2\u001b[0m \u001b[0;32mdef\u001b[0m \u001b[0mT_med_atm\u001b[0m\u001b[0;34m(\u001b[0m\u001b[0malpha\u001b[0m\u001b[0;34m,\u001b[0m\u001b[0momega\u001b[0m\u001b[0;34m,\u001b[0m\u001b[0mepsilon\u001b[0m\u001b[0;34m)\u001b[0m\u001b[0;34m:\u001b[0m\u001b[0;34m\u001b[0m\u001b[0;34m\u001b[0m\u001b[0m\n\u001b[1;32m      3\u001b[0m     \u001b[0;34m...\u001b[0m\u001b[0;34m\u001b[0m\u001b[0;34m\u001b[0m\u001b[0m\n\u001b[0;32m----> 4\u001b[0;31m     \u001b[0;32mreturn\u001b[0m \u001b[0mT\u001b[0m\u001b[0;34m\u001b[0m\u001b[0;34m\u001b[0m\u001b[0m\n\u001b[0m\u001b[1;32m      5\u001b[0m \u001b[0;34m\u001b[0m\u001b[0m\n\u001b[1;32m      6\u001b[0m \u001b[0mprint\u001b[0m\u001b[0;34m(\u001b[0m\u001b[0mT_med_atm\u001b[0m\u001b[0;34m(\u001b[0m\u001b[0;36m0.77\u001b[0m\u001b[0;34m,\u001b[0m\u001b[0;36m2601\u001b[0m\u001b[0;34m,\u001b[0m\u001b[0;36m1\u001b[0m\u001b[0;34m)\u001b[0m\u001b[0;34m)\u001b[0m\u001b[0;34m\u001b[0m\u001b[0;34m\u001b[0m\u001b[0m\n",
      "\u001b[0;31mNameError\u001b[0m: name 'T' is not defined"
     ]
    }
   ],
   "source": [
    "# you can inspire you\n",
    "def T_med_atm(alpha,omega,epsilon):\n",
    "    # This is a function write your own expression for\n",
    "    \n",
    "    ...\n",
    "    return T\n",
    "\n",
    "print(T_med_atm(0.77,2601,1))\n",
    "\n",
    "print( 2*(1-(1-alpha)*omega/((737**4)*4*sigma)) )"
   ]
  },
  {
   "cell_type": "markdown",
   "id": "e50d69db",
   "metadata": {},
   "source": [
    "## References:\n",
    "https://nssdc.gsfc.nasa.gov/planetary/factsheet/"
   ]
  },
  {
   "cell_type": "code",
   "execution_count": null,
   "id": "198ff6f2",
   "metadata": {},
   "outputs": [],
   "source": []
  }
 ],
 "metadata": {
  "kernelspec": {
   "display_name": "Python 3 (ipykernel)",
   "language": "python",
   "name": "python3"
  },
  "language_info": {
   "codemirror_mode": {
    "name": "ipython",
    "version": 3
   },
   "file_extension": ".py",
   "mimetype": "text/x-python",
   "name": "python",
   "nbconvert_exporter": "python",
   "pygments_lexer": "ipython3",
   "version": "3.9.12"
  }
 },
 "nbformat": 4,
 "nbformat_minor": 5
}
