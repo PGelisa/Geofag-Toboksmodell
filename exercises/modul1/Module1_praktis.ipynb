{
 "cells": [
  {
   "cell_type": "markdown",
   "id": "404fe42a",
   "metadata": {
    "tags": []
   },
   "source": [
    "\n",
    "# Kapittel 6: Drivhuseffekten og overflatetemperaturen på jorden\n",
    "\n",
    "**Energibalanse: Energien som går inn i et system er balansert av energien som går ut av systemet**\n",
    "\n",
    "\\begin{equation} P_{in}=P_{out} \\tag{1} \\end{equation}\n"
   ]
  },
  {
   "cell_type": "markdown",
   "id": "962b15fd",
   "metadata": {},
   "source": [
    "<img src=\"figurer_til_module1_a.png\">"
   ]
  },
  {
   "cell_type": "markdown",
   "id": "fd4c79b1",
   "metadata": {
    "tags": []
   },
   "source": [
    "## Jordtemperaturen uten atmosfære\n",
    "\n",
    "Effekten av solstrålingen er **1361 W/m$^{2}$** ved det vi kaller 1AU avstand (altså en astronomisk enhet, som er gitt som avstanden mellom jorden og solen). Jordsystemet mottar en energi som er gitt ut fra arealet til en sirkel som er lik skyggen av jorden. Vi får derfor at jorden mottar en samlet energi på $\\Omega\\times\\pi~R^{2}$ per kvadratmeter og per sekund. I dette uttrykk er R jordens radius.\n",
    "\n",
    "En del av energien reflekteres direkte vekk fra jordsystemet, det er dette vi kaller albedo-effekten og betegnes $\\alpha$. Med verdier fra 0 til 1 indikerer albedo-verdien en samlet refleksjon (inkludert den delen av spredningen som går ut av jordsystemet) fra 0$\\%$ til 100$\\%$ , som gir at $(1-\\alpha)$ av strålingen absorberes av jordsystemene. \n",
    "\n",
    "Nysnø har en svært høy albedo (0,9) som betyr at kun 10$\\%$ absorberes, mens åpent hav har en albedo på 0,06 , noe som gir at hele 94 $\\%$ absorberes. \n",
    "\n",
    "Totalt sett har jorden en gjennomsnittlig albedo gitt som $\\alpha=0.306$"
   ]
  },
  {
   "cell_type": "markdown",
   "id": "e3a1d942",
   "metadata": {},
   "source": [
    "<img src=\"figurer_til_module1_b.png\">"
   ]
  },
  {
   "cell_type": "markdown",
   "id": "f3fa33fe",
   "metadata": {},
   "source": [
    "### La oss se på matematikken i det\n",
    "Jorden absorberer strålingsenergi per sekund gitt ved:\n",
    "\n",
    "\\begin{equation} P_{in} = (1-\\alpha)~\\Omega \\cdot \\pi ~R^{2} \\tag{2} \\end{equation}\n",
    "\n",
    "Ved å absorbere stråling, varmes overflaten av jorden opp, og den emitterer (sender ut) termisk stråling (langbølget stråling). Ved å anta en likevekt av temperaturen på overflaten $T_{jord}$, og at den oppfører seg som et \"svart legeme\", så kan vi se på utstrålingen $P_{out}$ gitt ved Stefan-Boltzmanns utstrålingslov. \n",
    "\n",
    "\n",
    "\n",
    "\\begin{equation} P_{out} = 4\\pi ~R^{2} \\cdot \\sigma ~T_{jord}^{4} \\tag{3}\\end{equation}\n",
    "\n",
    "der $\\sigma=5.67\\times 10^{-8}$Wm$^{-2}$ K$^{-4}$ er Boltzmann-konstanten, og $4\\pi R^{2}$ jordens totale overflate (overflate av en kule). \n",
    "\n",
    "Hvis vi kombinerer likningene (1), (2) og (3), finner vi at temperaturen på jorden uten en atmosfære er gitt ved:\n",
    "\n",
    "\\begin{equation} T_{jord} = \\left( \\frac{ \\Omega\\cdot(1-\\alpha)}{4~\\sigma} \\right)^{\\frac{1}{4}} \\tag{4}\\end{equation}\n"
   ]
  },
  {
   "cell_type": "markdown",
   "id": "e464ae7a",
   "metadata": {},
   "source": [
    "<img src=\"figurer_til_module1_c.png\">"
   ]
  },
  {
   "cell_type": "markdown",
   "id": "563bfdc7",
   "metadata": {},
   "source": [
    "### Øvelse 1:\n",
    "* 1 - sjekk av verdiene av $\\Omega$, $\\sigma$ og $\\alpha$ er ok, og kjør koden (kompiler)\n",
    "* 2 - kompiler og regn ut temperaturen på jorden uten atmosfære\n",
    "* 3 - hva blir temperaturen hvis jorden er dekket av ørken, hav, eller nysnø? Eksempelet viser noen av verdiene. Dere finner flere albedoverdier på SNL https://snl.no/albedoeffekt\n",
    "* 4 - Du kan bruke samme formel til å beregne temperaturen på Venus og Mars. Endre verdiene for albedo og solarkonstant ($\\Omega$) (som er basert på avstanden til solen). Bruk følgende verdier: \n",
    "\n",
    "Mars: $\\alpha=0.250$ og $\\Omega=586.2$ \n",
    "\n",
    "Venus: $\\alpha=0.77$ and $\\Omega=2601$ \n",
    "\n",
    "Her er det lurt å lage en funksjon"
   ]
  },
  {
   "cell_type": "code",
   "execution_count": null,
   "id": "b79a8ba4",
   "metadata": {
    "tags": []
   },
   "outputs": [],
   "source": [
    "### (1)\n",
    "omega = 1361                 # solar constant (W.m-2)\n",
    "sigma = 5.67e-8            # Stefan Boltzman constant (W.m-2.K-4)\n",
    "alpha = 0.306                  # albedo: fraction of solar radiations reflected by the Earth"
   ]
  },
  {
   "cell_type": "code",
   "execution_count": null,
   "id": "e1470fe4",
   "metadata": {
    "tags": []
   },
   "outputs": [],
   "source": [
    "### (2)\n",
    "T_jord = (omega*(1-alpha)/(4*sigma)) **(1/4)\n",
    "\n",
    "print(\"%.2f\" %(T_jord -273.15),'°C')"
   ]
  },
  {
   "cell_type": "code",
   "execution_count": null,
   "id": "4ebe9d68",
   "metadata": {
    "tags": []
   },
   "outputs": [],
   "source": [
    "### (3)\n",
    "\n",
    "import pandas as pd\n",
    "alphaS = pd.Series([0, 0.4, 0.9, 0.306],index=['svartlegeme', 'ørken', 'dyp nysnø', 'jordens gjennomsnittsalbedo'])\n",
    "\n",
    "\n",
    "T_jord = (omega*(1-alphaS)/(4*sigma) )**(1/4)\n",
    "\n",
    "print('Hypotetiske temperaturer på jorden hvis jorden hadde hatt ulike overflater:\\n\\n',T_jord-273.15)"
   ]
  },
  {
   "cell_type": "code",
   "execution_count": null,
   "id": "911620be",
   "metadata": {
    "tags": []
   },
   "outputs": [],
   "source": [
    "### (4) E\n",
    "def T_uten_atm(alpha,omega):\n",
    "    \n",
    "    # Lag en funksjon som regner ut temperaturen på ulike planter ved å bruke alpha og omega som input\n",
    "    # \"T_uten_atm\" er funksjonsnavnet\n",
    "    T = 0 # her skal du skrive inn funksjonen\n",
    "    return T"
   ]
  },
  {
   "cell_type": "markdown",
   "id": "c3c000ac",
   "metadata": {
    "tags": []
   },
   "source": [
    "## Jordtemperaturen med enkel atmosfære - emissivitet\n",
    "\n",
    "Nå skal vi legge til en enkel atmosfære. Det gjør vi ved å legge til et homogent lag av gass som er et grått legeme (altså ikke et svartlegeme). Dette laget absorberer en del ($\\epsilon_{a}$) av den termiske (langbølgete) strålingen som emitteres fra jordoverflaten, og emitterer videre langbølget stråling i alle retninger (både opp og ned og sideveis). $\\epsilon_{a}$ kalles for emissiviteten til atmosfæren.\n",
    "\n",
    "Atmosfæren varmes opp av strålingen som den absorberer, og emitterer så stråling i henhold til temperaturen, $T_a$ er her definert som likevektstemperaturen i atmosfæren. Et grått legeme emitterer like mye stråling som et svart legemes stråling multiplisert med emissiviteten. (Emissiviteten kan ses på som atmosfærens gjennomskinnelighet).\n",
    "\n",
    "Vi får uansett at atmosfæren stråler ut både oppover og nedover med følgende strålingseffekt:\n",
    "\n",
    "$U_{atmosfære}=\\epsilon \\cdot \\sigma~T_{a}^{4}$ der $\\epsilon$ er emissiviteten og $T_{a}$ er likevektstemperaturen i atmosfæren.\n",
    "\n",
    "I tillegg så vil absorpsjonsevnen til atmosfæren være lik emissiviteten til et grått legeme når de er i termisk likevekt. \n",
    "\n",
    "$$\\epsilon_{a}=\\epsilon$$\n",
    "\n",
    "Vi gjør enda en forenkling, og regner med at overflatearealet (S) av toppen (toa) og bunnen av atmosfæren (boa) er det samme som jordens overflate. Det gir følgende balanser som vist i figuren under:\n",
    "\n",
    "\n",
    "$$S_{boa}=S_{toa}=4\\pi~R^{2}$$"
   ]
  },
  {
   "cell_type": "markdown",
   "id": "1af66dec",
   "metadata": {},
   "source": [
    "<img src=\"figurer_til_module1_d.png\">"
   ]
  },
  {
   "cell_type": "markdown",
   "id": "1d2f3f81",
   "metadata": {
    "tags": []
   },
   "source": [
    "## Energibalanse:\n",
    "\n",
    "Jordens overflate: \\begin{equation} (1-\\alpha)\\frac{\\Omega}{4} + \\epsilon~\\sigma~ T_{a}^{4} = \\sigma~ T_{jord}^{4} \\tag{5} \\end{equation}\n",
    "Atmosfæren: \\begin{equation} \\epsilon~\\sigma~ T_{jord}^{4} = 2\\cdot \\epsilon~\\sigma~ T_{a}^{4} \\tag{6}\\end{equation}\n",
    "Toppen av atmosfæren: \\begin{equation} \\frac{\\Omega}{4} = \\alpha \\frac{\\Omega}{4}+(1-\\epsilon)~\\sigma~ T_{jord}^{4} +  \\epsilon~\\sigma~ T_{a}^{4} \\tag{7}\\end{equation}\n",
    "\n",
    "Hvis vi løser likningssettet (det holder med (5) og (6) eller (6) og (7) - (5) og (7) er like algebraisk), så får vi:\n",
    "\n",
    "\\begin{equation} T_a = \\frac{T_{jord}}{\\sqrt[4]{2}} \\tag{8} \\end{equation}\n",
    "\\begin{equation} T_{jord} = \\sqrt[4]{\\dfrac{(1-\\alpha)\\Omega}{2\\sigma (2-\\epsilon)}} \\tag{9} \\end{equation}\n",
    "\n",
    "### Øvelse 2:\n",
    "\n",
    "Definer variabelen $\\epsilon=0.77$, bruk variabler fra tidligere i notebooken og regn ut gjennomsnittstemperaturen ved bakken (jordoverflaten) og i atmosfæren.\n",
    "\n",
    "\n",
    "Etterpå kan du teste å endre emissiviteten for å simulere en endring av drivhusgasser i atmosfæren."
   ]
  },
  {
   "cell_type": "code",
   "execution_count": null,
   "id": "f8353d12",
   "metadata": {
    "tags": []
   },
   "outputs": [],
   "source": [
    "### 2\n",
    "epsilon = 0.77          # emissivitet\n",
    "T_jord_med_atmosfære = ...\n",
    "print(\"%.2f\" %(T_jord_med_atmosfære),'°C')"
   ]
  },
  {
   "cell_type": "code",
   "execution_count": null,
   "id": "c9632f03",
   "metadata": {
    "tags": []
   },
   "outputs": [],
   "source": [
    "# you can inspire you\n",
    "def T_med_atm(alpha,omega,epsilon):\n",
    "    # Skriv inn din egen funksjon\n",
    "    \n",
    "    ...\n",
    "    return T\n",
    "\n",
    "print(T_med_atm(0.306,1361,0.77))"
   ]
  },
  {
   "cell_type": "markdown",
   "id": "07bec929-1cae-4734-b74d-0a42d4226a64",
   "metadata": {},
   "source": [
    "## Applet-øvelse\n",
    "\n",
    "Funksjonen som dere har brukt over er den samme som ligger bakenfor appen på denne lenken: https://ektedata.uib.no/twobox/ettlagsmodell_likevektstemperatur/\n",
    "\n",
    "### Øvelse 3:\n",
    "Tilbakestill modellen til de opprinnelige verdiene (1361, 0.306 og 0.77) og noter ned temperaturen. \n",
    "\n",
    "***Undersøk så hvor mye du må endre emissiviteten for å øke temperaturen med 1.2$^\\circ$C.***\n",
    "\n",
    "### Øvelse 4:\n",
    "Du skal lære mer om tilbakekoblingsmekanismer senere. Men en tilbakekoblingsmekanisme er for eksempel at økt drivhusgass gir økt temperatur som smelter snø, som gir lavere albedo. Når albedoen synker, øker temperaturen ytterligere. \n",
    "\n",
    "***Hvor mye må du endre albedoen for at den totale effekten av begge endringene i øvelse 3 og 4 blir 2.8$^\\circ$C?***"
   ]
  },
  {
   "cell_type": "markdown",
   "id": "e50d69db",
   "metadata": {},
   "source": [
    "## References:\n",
    "https://nssdc.gsfc.nasa.gov/planetary/factsheet/"
   ]
  },
  {
   "cell_type": "code",
   "execution_count": null,
   "id": "198ff6f2",
   "metadata": {
    "tags": []
   },
   "outputs": [],
   "source": []
  }
 ],
 "metadata": {
  "kernelspec": {
   "display_name": "Python 3 (ipykernel)",
   "language": "python",
   "name": "python3"
  },
  "language_info": {
   "codemirror_mode": {
    "name": "ipython",
    "version": 3
   },
   "file_extension": ".py",
   "mimetype": "text/x-python",
   "name": "python",
   "nbconvert_exporter": "python",
   "pygments_lexer": "ipython3",
   "version": "3.9.15"
  }
 },
 "nbformat": 4,
 "nbformat_minor": 5
}
