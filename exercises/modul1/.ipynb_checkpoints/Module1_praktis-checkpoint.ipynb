{
 "cells": [
  {
   "cell_type": "markdown",
   "id": "404fe42a",
   "metadata": {
    "tags": []
   },
   "source": [
    "\n",
    "# Kapittel 6: Drivhuseffekten og overflatetemperaturen på jorden\n",
    "\n",
    "**Energibalanse: Energien som går inn i et system er balansert av energien som går ut av systemet**\n",
    "\n",
    "\\begin{equation} P_{in}=P_{out} \\tag{1} \\end{equation}\n"
   ]
  },
  {
   "cell_type": "markdown",
   "id": "962b15fd",
   "metadata": {},
   "source": [
    "<img src=\"figurer_til_module1_a.png\">"
   ]
  },
  {
   "cell_type": "markdown",
   "id": "fd4c79b1",
   "metadata": {
    "tags": []
   },
   "source": [
    "## Jordtemperaturen uten atmosfære\n",
    "\n",
    "Effekten av solstrålingen er 1361 W/m$^{2}$ ved det vi kaller 1AU avstand (altså en astronomisk enhet, som er gitt som avstanden mellom jorden og solen). Jordsystemet mottar en energi som er gitt ut fra arealet til en sirkel som er lik skyggen av jorden. Vi får derfor at jorden mottar en samlet energi på $\\Omega\\times\\pi~R^{2}$ per kvadratmeter og per sekund. I dette uttrykk er R jordens radius.\n",
    "\n",
    "En del av energien reflekteres direkte vekk fra jordsystemet, det er dette vi kaller albedo-effekten og betegnes $\\alpha$. Med verdier fra 0 til 1 indikerer albedo-verdien en samlet refleksjon (inkludert den delen av spredningen som går ut av jordsystemet) fra 0$\\%$ til 100$\\%$ , som gir at $(1-\\alpha)$ av strålingen absorberes av jordsystemene. \n",
    "\n",
    "Nysnø har en svært høy albedo (0,9) som betyr at kun 10$\\%$ absorberes, mens åpent hav har en albedo på 0,06, noe som gir at hele 94 $\\%$ absorberes. \n",
    "\n",
    "Totalt sett har jorden en gjennomsnittlig albedo gitt som $\\alpha=0.306$"
   ]
  },
  {
   "cell_type": "markdown",
   "id": "e3a1d942",
   "metadata": {},
   "source": [
    "<img src=\"figurer_til_module1_b.png\">"
   ]
  },
  {
   "cell_type": "markdown",
   "id": "f3fa33fe",
   "metadata": {},
   "source": [
    "### La oss se på matematikken i det\n",
    "Jorden absorberer strålingsenergi per sekund gitt ved:\n",
    "\n",
    "\\begin{equation} P_{in} = (1-\\alpha)~\\Omega \\times \\pi ~R^{2} \\tag{2} \\end{equation}\n",
    "\n",
    "Ved å absorbere stråling, varmes overflaten av jorden opp, og den emitterer (sender ut) termisk stråling (langbølget stråling). Ved å anta en likevekt av temperaturen på overflaten $T_{jord}$, og at den oppfører seg som et \"svart legeme\", så kan vi se på utstrålingen $P_{out}$ gitt ved Stefan-Boltzmanns utstrålingslov. \n",
    "\n",
    "\n",
    "\n",
    "\\begin{equation} P_{out} = 4\\pi ~R^{2} \\times \\sigma ~T_{jord}^{4} \\tag{3}\\end{equation}\n",
    "\n",
    "der $\\sigma=5.67\\times 10^{-8}$Wm$^{-2}$ K$^{-4}$ er Boltzmann-konstanten, og $4\\pi R^{2}$ jordens totale overflate (overflate av en kule). \n",
    "\n",
    "Hvis vi kombinerer likningene (1), (2) og (3), finner vi at temperaturen på jorden uten en atmosfære er gitt ved:\n",
    "\n",
    "\\begin{equation} T_{jord} = \\left( \\frac{ \\Omega\\times(1-\\alpha)}{4~\\sigma} \\right)^{\\frac{1}{4}} \\tag{4}\\end{equation}\n"
   ]
  },
  {
   "cell_type": "markdown",
   "id": "e464ae7a",
   "metadata": {},
   "source": [
    "<img src=\"figurer_til_module1_c.png\">"
   ]
  },
  {
   "cell_type": "markdown",
   "id": "563bfdc7",
   "metadata": {},
   "source": [
    "### Øvelse 1:\n",
    "* 1 - sjekk av verdiene av $\\Omega$, $\\sigma$ og $\\alpha$ er ok, og kjør koden (kompiler)\n",
    "* 2 - kompiler og regn ut temperaturen på jorden uten atmosfære\n",
    "* 3 - hva blir temperaturen hvis jorden er dekket av ørken, hav, eller nysnø? Eksempelet viser noen av verdiene. Dere finner flere albedoverdier på SNL https://snl.no/albedoeffekt\n",
    "* 4 - One can use the same formula to compute the temperature of Venus and Mars, by changing the albedo and the solar irradiance (which is based on the distance to the sun). Compute the temperature using $\\alpha=0.250$ and $\\Omega=586.2$ for Mars, $\\alpha=0.77$ and $\\Omega=2601$ for Venus. (It is recommended to create a function)\n"
   ]
  },
  {
   "cell_type": "code",
   "execution_count": 9,
   "id": "b79a8ba4",
   "metadata": {
    "tags": []
   },
   "outputs": [],
   "source": [
    "### (1)\n",
    "omega = 1361                 # solar constant (W.m-2)\n",
    "sigma = 5.67e-8            # Stefan Boltzman constant (W.m-2.K-4)\n",
    "alpha = 0.306                  # albedo: fraction of solar radiations reflected by the Earth"
   ]
  },
  {
   "cell_type": "code",
   "execution_count": 10,
   "id": "e1470fe4",
   "metadata": {
    "tags": []
   },
   "outputs": [
    {
     "name": "stdout",
     "output_type": "stream",
     "text": [
      "-19.11 °C\n"
     ]
    }
   ],
   "source": [
    "### (2)\n",
    "T_jord = (omega*(1-alpha)/(4*sigma)) **(1/4)\n",
    "\n",
    "print(\"%.2f\" %(T_jord -273.15),'°C')"
   ]
  },
  {
   "cell_type": "code",
   "execution_count": 11,
   "id": "4ebe9d68",
   "metadata": {},
   "outputs": [
    {
     "name": "stdout",
     "output_type": "stream",
     "text": [
      "Hypotetiske temperaturer på jorden hvis jorden hadde hatt ulike overflater:\n",
      "\n",
      " svartlegeme                      5.175994\n",
      "dyrket mark                     -7.892754\n",
      "dyp nysnø                     -116.635792\n",
      "jordens gjennomsnittsalbedo    -19.114953\n",
      "dtype: float64\n"
     ]
    }
   ],
   "source": [
    "### (3)\n",
    "\n",
    "import pandas as pd\n",
    "alphaS = pd.Series([0, 0.4, 0.9, 0.306],index=['svartlegeme', 'ørken', 'dyp nysnø', 'jordens gjennomsnittsalbedo'])\n",
    "\n",
    "\n",
    "T_jord = (omega*(1-alphaS)/(4*sigma) )**(1/4)\n",
    "\n",
    "print('Hypotetiske temperaturer på jorden hvis jorden hadde hatt ulike overflater:\\n\\n',T_jord-273.15)"
   ]
  },
  {
   "cell_type": "code",
   "execution_count": 4,
   "id": "911620be",
   "metadata": {},
   "outputs": [],
   "source": [
    "### (4) E\n",
    "def T_uten_atm(alpha,omega):\n",
    "    \n",
    "    # Lag en funksjon som regner ut temperaturen på ulike planter ved å bruke alpha og omega som input\n",
    "    # \"T_uten_atm\" er funksjonsnavnet\n",
    "    T = 0 # her skal du skrive inn funksjonen\n",
    "    return T"
   ]
  },
  {
   "cell_type": "markdown",
   "id": "c3c000ac",
   "metadata": {
    "tags": []
   },
   "source": [
    "## Jordtemperaturen med enkel atmosfære\n",
    "\n",
    "We now add a simple homogenous layer of gas acting as a grey body. This layer absorbs $\\epsilon_{a}$ of the thermal radiations emitted by the Earth and emits thermal radiations in all directions (upward and downward). The amount of emission per unit area is defined by the folowing expression: $\\epsilon \\times \\sigma~T_{a}^{4}$ where $\\epsilon$ is the emissivity and $T_{a}$ is the equilibrium temperature of the atmosphere. In fact, a grey body emits the same amount of energy than a black body at the same temperature mutliplied by the emissivity.\n",
    "\n",
    "In addition, the  absorptivity equals the emissivity if the grey body is in thermal equilibrium ($\\epsilon_{a}=\\epsilon$) \n",
    "\n",
    "Finally, we consider that the surface of the bottom and top of the atmosphere is the same as the Earth surface ($S_{ba}=S_{ta}=4\\pi~R^{2}$) for simplifications, so that the atmosphere absorbs $\\epsilon \\times 4\\pi~R^{2}\\sigma~T_{e}^{4}$ and emits in total $2\\times 4\\pi~R^{2}\\times \\epsilon \\times\\sigma~T_{a}^{4}$. The different energy fluxes are represented on the sketch below. Note that all the fluxes (and following equations) were divided by $4\\pi~R^{2}$ to improve the readability."
   ]
  },
  {
   "cell_type": "markdown",
   "id": "1af66dec",
   "metadata": {},
   "source": [
    "<img src=\"figurer_til_module1_d.png\">"
   ]
  },
  {
   "cell_type": "markdown",
   "id": "1d2f3f81",
   "metadata": {
    "tags": []
   },
   "source": [
    "### Energy budget:\n",
    "\n",
    "\\begin{equation} \\textrm{Jord:}~~ (1-\\alpha)\\frac{\\Omega}{4} + \\epsilon~\\sigma~ T_{a}^{4} = \\sigma~ T_{e}^{4} \\tag{5} \\end{equation}\n",
    "\\begin{equation} \\textrm{Atmosfær:} ~~ \\epsilon~\\sigma~ T_{e}^{4} = 2\\times \\epsilon~\\sigma~ T_{a}^{4} \\tag{6}\\end{equation}\n",
    "\\begin{equation} \\textrm{Topen av atmosfæren:} ~~ \\frac{\\Omega}{4} = \\alpha \\frac{\\Omega}{4}+(1-\\epsilon)~\\sigma~ T_{e}^{4} +  \\epsilon~\\sigma~ T_{a}^{4} \\tag{7}\\end{equation}\n",
    "\n",
    "### Exercise 2:\n",
    "\n",
    "* 1- Find the relation between the temperature of the atmosphere and the temperature of the Earth.  \n",
    "* 2 - By replacing $T_{a}$ in equation (5) you can now find the tempertaure of the Earth:\n",
    "\\begin{equation} T_{e} =  \\left( \\frac{(1-\\alpha)}{4\\sigma(1-\\frac{\\epsilon}{2})} \\right) ^{\\frac{1}{4}}  \\end{equation}\n",
    "Create the variable $\\epsilon=0.77$ and compute the temperature using the variables already defined in Exercise 1 ($\\omega$,  $\\sigma$ and $\\alpha$). Print your result.\n",
    "* 3 - idea: tried different $\\epsilon$ accounting for more or less greenhouse gases.."
   ]
  },
  {
   "cell_type": "code",
   "execution_count": 6,
   "id": "f8353d12",
   "metadata": {},
   "outputs": [
    {
     "ename": "TypeError",
     "evalue": "must be real number, not ellipsis",
     "output_type": "error",
     "traceback": [
      "\u001b[0;31m-------------------------------------------------------------------------\u001b[0m",
      "\u001b[0;31mTypeError\u001b[0m                               Traceback (most recent call last)",
      "\u001b[0;32m<ipython-input-6-ab031020b9c0>\u001b[0m in \u001b[0;36m<module>\u001b[0;34m\u001b[0m\n\u001b[1;32m      2\u001b[0m \u001b[0mepsilon\u001b[0m \u001b[0;34m=\u001b[0m \u001b[0;36m0.77\u001b[0m          \u001b[0;31m# emissivity / fraction of longwaves radiations absorbed by the atmosphere\u001b[0m\u001b[0;34m\u001b[0m\u001b[0;34m\u001b[0m\u001b[0m\n\u001b[1;32m      3\u001b[0m \u001b[0mTe_med_atmosfær\u001b[0m \u001b[0;34m=\u001b[0m \u001b[0;34m...\u001b[0m\u001b[0;34m\u001b[0m\u001b[0;34m\u001b[0m\u001b[0m\n\u001b[0;32m----> 4\u001b[0;31m \u001b[0mprint\u001b[0m\u001b[0;34m(\u001b[0m\u001b[0;34m\"%.2f\"\u001b[0m \u001b[0;34m%\u001b[0m\u001b[0;34m(\u001b[0m\u001b[0mTe_med_atmosfær\u001b[0m\u001b[0;34m)\u001b[0m\u001b[0;34m,\u001b[0m\u001b[0;34m'°C'\u001b[0m\u001b[0;34m)\u001b[0m\u001b[0;34m\u001b[0m\u001b[0;34m\u001b[0m\u001b[0m\n\u001b[0m",
      "\u001b[0;31mTypeError\u001b[0m: must be real number, not ellipsis"
     ]
    }
   ],
   "source": [
    "### 2\n",
    "epsilon = 0.77          # emissivity / fraction of longwaves radiations absorbed by the atmosphere\n",
    "Te_med_atmosfær = ...\n",
    "print(\"%.2f\" %(Te_med_atmosfær),'°C')"
   ]
  },
  {
   "cell_type": "code",
   "execution_count": 7,
   "id": "c9632f03",
   "metadata": {},
   "outputs": [
    {
     "ename": "NameError",
     "evalue": "name 'T' is not defined",
     "output_type": "error",
     "traceback": [
      "\u001b[0;31m-------------------------------------------------------------------------\u001b[0m",
      "\u001b[0;31mNameError\u001b[0m                               Traceback (most recent call last)",
      "\u001b[0;32m<ipython-input-7-cf804a2c79c0>\u001b[0m in \u001b[0;36m<module>\u001b[0;34m\u001b[0m\n\u001b[1;32m      4\u001b[0m     \u001b[0;32mreturn\u001b[0m \u001b[0mT\u001b[0m\u001b[0;34m\u001b[0m\u001b[0;34m\u001b[0m\u001b[0m\n\u001b[1;32m      5\u001b[0m \u001b[0;34m\u001b[0m\u001b[0m\n\u001b[0;32m----> 6\u001b[0;31m \u001b[0mprint\u001b[0m\u001b[0;34m(\u001b[0m\u001b[0mT_med_atm\u001b[0m\u001b[0;34m(\u001b[0m\u001b[0;36m0.77\u001b[0m\u001b[0;34m,\u001b[0m\u001b[0;36m2601\u001b[0m\u001b[0;34m,\u001b[0m\u001b[0;36m1\u001b[0m\u001b[0;34m)\u001b[0m\u001b[0;34m)\u001b[0m\u001b[0;34m\u001b[0m\u001b[0;34m\u001b[0m\u001b[0m\n\u001b[0m\u001b[1;32m      7\u001b[0m \u001b[0;34m\u001b[0m\u001b[0m\n\u001b[1;32m      8\u001b[0m \u001b[0mprint\u001b[0m\u001b[0;34m(\u001b[0m \u001b[0;36m2\u001b[0m\u001b[0;34m*\u001b[0m\u001b[0;34m(\u001b[0m\u001b[0;36m1\u001b[0m\u001b[0;34m-\u001b[0m\u001b[0;34m(\u001b[0m\u001b[0;36m1\u001b[0m\u001b[0;34m-\u001b[0m\u001b[0malpha\u001b[0m\u001b[0;34m)\u001b[0m\u001b[0;34m*\u001b[0m\u001b[0momega\u001b[0m\u001b[0;34m/\u001b[0m\u001b[0;34m(\u001b[0m\u001b[0;34m(\u001b[0m\u001b[0;36m737\u001b[0m\u001b[0;34m**\u001b[0m\u001b[0;36m4\u001b[0m\u001b[0;34m)\u001b[0m\u001b[0;34m*\u001b[0m\u001b[0;36m4\u001b[0m\u001b[0;34m*\u001b[0m\u001b[0msigma\u001b[0m\u001b[0;34m)\u001b[0m\u001b[0;34m)\u001b[0m \u001b[0;34m)\u001b[0m\u001b[0;34m\u001b[0m\u001b[0;34m\u001b[0m\u001b[0m\n",
      "\u001b[0;32m<ipython-input-7-cf804a2c79c0>\u001b[0m in \u001b[0;36mT_med_atm\u001b[0;34m(alpha, omega, epsilon)\u001b[0m\n\u001b[1;32m      2\u001b[0m \u001b[0;32mdef\u001b[0m \u001b[0mT_med_atm\u001b[0m\u001b[0;34m(\u001b[0m\u001b[0malpha\u001b[0m\u001b[0;34m,\u001b[0m\u001b[0momega\u001b[0m\u001b[0;34m,\u001b[0m\u001b[0mepsilon\u001b[0m\u001b[0;34m)\u001b[0m\u001b[0;34m:\u001b[0m\u001b[0;34m\u001b[0m\u001b[0;34m\u001b[0m\u001b[0m\n\u001b[1;32m      3\u001b[0m     \u001b[0;34m...\u001b[0m\u001b[0;34m\u001b[0m\u001b[0;34m\u001b[0m\u001b[0m\n\u001b[0;32m----> 4\u001b[0;31m     \u001b[0;32mreturn\u001b[0m \u001b[0mT\u001b[0m\u001b[0;34m\u001b[0m\u001b[0;34m\u001b[0m\u001b[0m\n\u001b[0m\u001b[1;32m      5\u001b[0m \u001b[0;34m\u001b[0m\u001b[0m\n\u001b[1;32m      6\u001b[0m \u001b[0mprint\u001b[0m\u001b[0;34m(\u001b[0m\u001b[0mT_med_atm\u001b[0m\u001b[0;34m(\u001b[0m\u001b[0;36m0.77\u001b[0m\u001b[0;34m,\u001b[0m\u001b[0;36m2601\u001b[0m\u001b[0;34m,\u001b[0m\u001b[0;36m1\u001b[0m\u001b[0;34m)\u001b[0m\u001b[0;34m)\u001b[0m\u001b[0;34m\u001b[0m\u001b[0;34m\u001b[0m\u001b[0m\n",
      "\u001b[0;31mNameError\u001b[0m: name 'T' is not defined"
     ]
    }
   ],
   "source": [
    "# you can inspire you\n",
    "def T_med_atm(alpha,omega,epsilon):\n",
    "    # This is a function write your own expression for\n",
    "    \n",
    "    ...\n",
    "    return T\n",
    "\n",
    "print(T_med_atm(0.77,2601,1))\n",
    "\n",
    "print( 2*(1-(1-alpha)*omega/((737**4)*4*sigma)) )"
   ]
  },
  {
   "cell_type": "markdown",
   "id": "e50d69db",
   "metadata": {},
   "source": [
    "## References:\n",
    "https://nssdc.gsfc.nasa.gov/planetary/factsheet/"
   ]
  },
  {
   "cell_type": "code",
   "execution_count": null,
   "id": "198ff6f2",
   "metadata": {},
   "outputs": [],
   "source": []
  }
 ],
 "metadata": {
  "kernelspec": {
   "display_name": "Python 3 (ipykernel)",
   "language": "python",
   "name": "python3"
  },
  "language_info": {
   "codemirror_mode": {
    "name": "ipython",
    "version": 3
   },
   "file_extension": ".py",
   "mimetype": "text/x-python",
   "name": "python",
   "nbconvert_exporter": "python",
   "pygments_lexer": "ipython3",
   "version": "3.9.12"
  }
 },
 "nbformat": 4,
 "nbformat_minor": 5
}
