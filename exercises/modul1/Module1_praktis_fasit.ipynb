{
 "cells": [
  {
   "cell_type": "markdown",
   "id": "36a26bc4",
   "metadata": {
    "tags": []
   },
   "source": [
    "\n",
    "# Module 1 : Drivhus effekt og jordtemperaturen\n",
    "\n",
    "Energy balance: the energy coming in a systen must equal the energy coming out such that:\n",
    "\n",
    "\\begin{equation} P_{in}=P_{out} \\tag{1} \\end{equation}\n"
   ]
  },
  {
   "cell_type": "markdown",
   "id": "a1af826c",
   "metadata": {},
   "source": [
    "<img src=\"figurer_til_module1_a.png\">"
   ]
  },
  {
   "cell_type": "markdown",
   "id": "a9c26d67",
   "metadata": {
    "tags": []
   },
   "source": [
    "## Jordtemperaturen uten atmosfære\n",
    "\n",
    "The sun is radiating 1361 W.m$^{-2}$ ($\\Omega$) at one astronomical unit (distance sun-Earth). A disk of these radiations intercept the Earth, such that the Earth receive a total energy of $\\Omega\\times\\pi~R^{2}$ per unity of surface and time. In this equation, R corresponds to the radius of the Earth. However, part of this energy is directly re-emitted through reflexion. The reflexion of radiations by a surface is called albedo ($\\alpha$). Ranging from 0 to 1, the albedo indicates a reemission of 0$\\%$ to 100$\\%$ of the radiations, while $(1-\\alpha)$ of the radiations are absorbed. \n",
    "In particular, fresh snow has an albedo of 0.9 (10$\\%$ of absorption) while the open ocean has an albedo of 0.06 (94$\\%$ of absorption). Overall, the Earth has a mean albedo $\\alpha=0.306$"
   ]
  },
  {
   "cell_type": "markdown",
   "id": "702b88bf",
   "metadata": {},
   "source": [
    "<img src=\"figurer_til_module1_b.png\">"
   ]
  },
  {
   "cell_type": "markdown",
   "id": "062bb886",
   "metadata": {},
   "source": [
    "To summarize, the Earth is absorbing the following energy per unit of time:\n",
    "\n",
    "\\begin{equation} P_{in} = (1-\\alpha)~\\Omega \\times \\pi ~R^{2} \\tag{2} \\end{equation}\n",
    "\n",
    "By receiving radiations, the Earth heats up and emits thermal radiations. Assuming an equilibrium temperature of the Earth $T_{E}$ and that it behaves like a black body, the energy emitted by the Earth by unit of time $P_{out}$ is given by the Stefan Boltzmann law:\n",
    "\n",
    "\\begin{equation} P_{out} = 4\\pi ~R^{2} \\times \\sigma ~T_{e}^{4} \\tag{3}\\end{equation}\n",
    "\n",
    "with $\\sigma=5.67\\times 10^{-8}$W.m$^{-2}$.K$^{-4}$ the Boltzmann constant, and $4\\pi R^{2}$ the surface of the Earth. \n",
    "By combining equation (1), (2) and (3), we find that the temperature of the Earth without an atmosphere is:\n",
    "\n",
    "\\begin{equation} T_{e} = \\left( \\frac{ \\Omega\\times(1-\\alpha)}{4~\\sigma} \\right)^{\\frac{1}{4}} \\tag{4}\\end{equation}\n"
   ]
  },
  {
   "cell_type": "markdown",
   "id": "7ebf751b",
   "metadata": {},
   "source": [
    "<img src=\"figurer_til_module1_c.png\">"
   ]
  },
  {
   "cell_type": "markdown",
   "id": "84df94c6",
   "metadata": {},
   "source": [
    "### Exercice 1:\n",
    "* 1- fill in the values of $\\Omega$, $\\sigma$ and $\\alpha$ and compile\n",
    "* 2- compile and print below the temperature of the Earth without an atmosphere\n",
    "* 3- what would be the temperature of the Earth if it was covered with grass, ocean or solar pannels? alphaS below is a panda serie containing multiple albedo values. By replacing \"alpha\" by \"alphaS\" in equation (4), one get a panda serie of temperature. Add other albedo values, as for example the albedo of solar pannels, and compile the cell below\n",
    "* 4- One can use the same formula to compute the temperature of Venus and Mars, by changing the albedo and the solar irradiance (which is based on the distance to the sun). Compute the temperature using $\\alpha=0.250$ and $\\Omega=586.2$ for Mars, $\\alpha=0.77$ and $\\Omega=2601$ for Venus. (It is recommended to create a function)\n"
   ]
  },
  {
   "cell_type": "code",
   "execution_count": 3,
   "id": "5e797ce3",
   "metadata": {
    "tags": []
   },
   "outputs": [],
   "source": [
    "### (1)\n",
    "omega = 1366  # solar constant (W.m-2)\n",
    "sigma = 5.67*1E-8            # Stefan Boltzman constant (W.m-2.K-4)\n",
    "alpha = 0.306                  # albedo: fraction of solar radiations reflected by the Earth"
   ]
  },
  {
   "cell_type": "code",
   "execution_count": 4,
   "id": "e4a4764e",
   "metadata": {
    "tags": []
   },
   "outputs": [
    {
     "name": "stdout",
     "output_type": "stream",
     "text": [
      "-17.47 °C\n"
     ]
    }
   ],
   "source": [
    "### (2)\n",
    "Te_uten_atmosfær = (omega*(1-alpha)/(4*sigma)) **(1/4)\n",
    "\n",
    "print(\"%.2f\" %(Te_uten_atmosfær -273),'°C')"
   ]
  },
  {
   "cell_type": "code",
   "execution_count": 6,
   "id": "f2352b4e",
   "metadata": {},
   "outputs": [
    {
     "name": "stdout",
     "output_type": "stream",
     "text": [
      "Hypothetical temperature of the Earth with a different surface: \n",
      " \n",
      " black body              5.784985\n",
      "grassland/cropland     -7.305315\n",
      "deep fresh snow      -116.227682\n",
      "Earth mean albedo     -23.647129\n",
      "dtype: float64\n"
     ]
    }
   ],
   "source": [
    "### (3)\n",
    "\n",
    "import pandas as pd\n",
    "alphaS = pd.Series([0, 0.175, 0.9, 0.306],index=['black body', 'grassland/cropland', 'deep fresh snow', 'Earth mean albedo'])\n",
    "\n",
    "Te_uten_atmosfær = ( omega*(1-alphaS)/(4*sigma) )**(1/4)\n",
    "\n",
    "print('Hypothetical temperature of the Earth with a different surface: \\n \\n',Te_uten_atmosfær-273)"
   ]
  },
  {
   "cell_type": "code",
   "execution_count": 25,
   "id": "6afb6cb4",
   "metadata": {},
   "outputs": [
    {
     "name": "stdout",
     "output_type": "stream",
     "text": [
      "Temperature of the Earth, computational  254.04K  vs observed temperature 288K\n",
      "Temperature of the Venus, computational  226.62K  vs observed temperature 737K\n",
      "Temperature of the Mars, computational  209.83K  vs observed temperature 210K\n"
     ]
    }
   ],
   "source": [
    "### (4) solution\n",
    "\n",
    "def T_uten_atm(alpha,omega):\n",
    "    sigma = 5.67*1E-8            # Stefan Boltzman constant (W.m-2.K-4)\n",
    "    T = (omega*(1-alpha)/(4*sigma)) **(1/4)\n",
    "    return T\n",
    "\n",
    "print('Temperature of the Earth, computational ',\"%.2f\" %(T_uten_atm(0.306,1361))+'K',' vs observed temperature 288K') \n",
    "print('Temperature of the Venus, computational ',\"%.2f\" %(T_uten_atm(0.77,2601))+'K',' vs observed temperature 737K') \n",
    "print('Temperature of the Mars, computational ',\"%.2f\" %(T_uten_atm(0.250,586.2))+'K',' vs observed temperature 210K') \n"
   ]
  },
  {
   "cell_type": "markdown",
   "id": "72baac6d",
   "metadata": {
    "tags": []
   },
   "source": [
    "## Jordtemperaturen med enkel atmosfære\n",
    "\n",
    "We now add a simple homogenous layer of gas acting as a grey body. This layer absorbs $\\epsilon_{a}$ of the thermal radiations emitted by the Earth and emits thermal radiations in all directions (upward and downward). The amount of emission per unit area is defined by the folowing expression: $\\epsilon \\times \\sigma~T_{a}^{4}$ where $\\epsilon$ is the emissivity and $T_{a}$ is the equilibrium temperature of the atmosphere. In fact, a grey body emits the same amount of energy than a black body at the same temperature mutliplied by the emissivity.\n",
    "\n",
    "In addition, the  absorptivity equals the emissivity if the grey body is in thermal equilibrium ($\\epsilon_{a}=\\epsilon$) \n",
    "\n",
    "Finally, we consider that the surface of the bottom and top of the atmosphere is the same as the Earth surface ($S_{ba}=S_{ta}=4\\pi~R^{2}$) for simplifications, so that the atmosphere absorbs $\\epsilon \\times 4\\pi~R^{2}\\sigma~T_{e}^{4}$ and emits in total $2\\times 4\\pi~R^{2}\\times \\epsilon \\times\\sigma~T_{a}^{4}$. The different energy fluxes are represented on the sketch below. Note that all the fluxes (and following equations) were divided by $4\\pi~R^{2}$ to improve the readability."
   ]
  },
  {
   "cell_type": "markdown",
   "id": "3827356d",
   "metadata": {},
   "source": [
    "<img src=\"figurer_til_module1_d.png\">"
   ]
  },
  {
   "cell_type": "markdown",
   "id": "faaf8394",
   "metadata": {
    "tags": []
   },
   "source": [
    "### Energy budget:\n",
    "\n",
    "\\begin{equation} \\textrm{Jord:}~~ (1-\\alpha)\\frac{\\Omega}{4} + \\epsilon~\\sigma~ T_{a}^{4} = \\sigma~ T_{e}^{4} \\tag{5} \\end{equation}\n",
    "\\begin{equation} \\textrm{Atmosfær:} ~~ \\epsilon~\\sigma~ T_{e}^{4} = 2\\times \\epsilon~\\sigma~ T_{a}^{4} \\tag{6}\\end{equation}\n",
    "\\begin{equation} \\textrm{Topen av atmosfæren:} ~~ \\frac{\\Omega}{4} = \\alpha \\frac{\\Omega}{4}+(1-\\epsilon)~\\sigma~ T_{e}^{4} +  \\epsilon~\\sigma~ T_{a}^{4} \\tag{7}\\end{equation}\n",
    "\n",
    "### Exercise 2:\n",
    "\n",
    "* 1- Find the relation between the temperature of the atmosphere and the temperature of the Earth.  \n",
    "* 2 - By replacing $T_{a}$ in equation (5) you can now find the tempertaure of the Earth:\n",
    "\\begin{equation} T_{e} =  \\left( \\frac{(1-\\alpha)}{4\\sigma(1-\\frac{\\epsilon}{2})} \\right) ^{\\frac{1}{4}}  \\end{equation}\n",
    "Create the variable $\\epsilon=0.77$ and compute the temperature using the variables already defined in Exercise 1 ($\\omega$,  $\\sigma$ and $\\alpha$). Print your result.\n",
    "* 3 - idea: tried different $\\epsilon$ accounting for more or less greenhouse gases.."
   ]
  },
  {
   "cell_type": "code",
   "execution_count": 21,
   "id": "3d89e94d",
   "metadata": {},
   "outputs": [
    {
     "name": "stdout",
     "output_type": "stream",
     "text": [
      "267.97 °C\n"
     ]
    }
   ],
   "source": [
    "### 2\n",
    "epsilon = 0.36          # emissivity / fraction of longwaves radiations absorbed by the atmosphere\n",
    "Te_med_atmosfær = ( (1-alpha)*omega / (4*sigma*(1-epsilon/2)) )**(1/4)\n",
    "print(\"%.2f\" %(Te_med_atmosfær),'°C')"
   ]
  },
  {
   "cell_type": "code",
   "execution_count": 30,
   "id": "3b550366",
   "metadata": {},
   "outputs": [
    {
     "name": "stdout",
     "output_type": "stream",
     "text": [
      "269.5031113716271\n",
      "1.9713360788041547\n"
     ]
    }
   ],
   "source": [
    "\n",
    "def T_med_atm(alpha,omega,epsilon):\n",
    "    sigma = 5.67*1E-8            # Stefan Boltzman constant (W.m-2.K-4)\n",
    "    T = ( (1-alpha)*omega / (4*sigma*(1-epsilon/2)) )**(1/4)\n",
    "    return T\n",
    "\n",
    "print(T_med_atm(0.77,2601,1))\n",
    "\n",
    "print( 2*(1-(1-alpha)*omega/((737**4)*4*sigma)) )"
   ]
  },
  {
   "cell_type": "markdown",
   "id": "2fa18292",
   "metadata": {},
   "source": [
    "## References:\n",
    "https://nssdc.gsfc.nasa.gov/planetary/factsheet/"
   ]
  },
  {
   "cell_type": "code",
   "execution_count": null,
   "id": "d796c13d",
   "metadata": {},
   "outputs": [],
   "source": []
  }
 ],
 "metadata": {
  "kernelspec": {
   "display_name": "Python 3 (ipykernel)",
   "language": "python",
   "name": "python3"
  },
  "language_info": {
   "codemirror_mode": {
    "name": "ipython",
    "version": 3
   },
   "file_extension": ".py",
   "mimetype": "text/x-python",
   "name": "python",
   "nbconvert_exporter": "python",
   "pygments_lexer": "ipython3",
   "version": "3.9.12"
  }
 },
 "nbformat": 4,
 "nbformat_minor": 5
}
